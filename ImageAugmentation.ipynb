{
 "cells": [
  {
   "cell_type": "markdown",
   "id": "f976f3cf",
   "metadata": {},
   "source": [
    "### Increasing the Maize Leaf Disease Dataset Using Contrast Technique"
   ]
  },
  {
   "cell_type": "code",
   "execution_count": 1,
   "id": "292a09bb",
   "metadata": {},
   "outputs": [],
   "source": [
    "import PIL\n",
    "import numpy as np\n",
    "import os\n",
    "import tensorflow as tf\n",
    "import cv2\n",
    "import keras\n",
    "import pathlib\n",
    "import glob\n",
<<<<<<< HEAD
    "from matplotlib import pyplot as plt\n",
    "from tensorflow.keras import layers\n",
    "from tensorflow.keras.models import Sequential\n",
    "from sklearn.model_selection import train_test_split"
=======
    "from tensorflow.keras import layers\n",
    "from tensorflow.keras.models import Sequential"
>>>>>>> a7352c252cf4ef5bfa8d9fe6b36674df13c1bd4a
   ]
  },
  {
   "cell_type": "markdown",
   "id": "b1fe01f9",
   "metadata": {},
   "source": [
    "## Steps\n",
    "- Loading the images and converting them into pixels.\n",
    "- Resizing and Rescaling.\n",
    "> Resizing involves making the images to be of same size and shape. Rescalling involves making the pixels to be in the range of 0-1.\n",
    "- Coming up with a pre-processing Layer.\n",
    "- Applying the pre-processing layer on the maize leaf disease dataset.\n",
    "- Training the model."
   ]
  },
  {
   "cell_type": "markdown",
   "id": "cf12269a",
   "metadata": {},
   "source": [
    "### Task 1: Loading the images and converting them into pixels."
   ]
  },
  {
   "cell_type": "code",
   "execution_count": 2,
   "id": "2ac85307",
   "metadata": {
    "scrolled": true
   },
   "outputs": [
    {
     "name": "stdout",
     "output_type": "stream",
     "text": [
      "4186\n"
     ]
    }
   ],
   "source": [
    "\n",
    "data_dir=pathlib.Path(os.getcwd()+\"/maize_leaf_diseases_dataset/data/\") # Windows Path\n",
    "data_list=list(glob.glob(f\"{data_dir}/*/*.jpg\",recursive=True)) # Getting all the images path\n",
    "print(len(data_list)) # Checking the length of our data\n",
    "\n",
    "with open(\"maize_images_pixels.txt\",\"w\") as writer: # Creating a text file\n",
    "    for imgPath in data_list: # Iterating through the list of image\n",
    "        img_pxls=cv2.imread(str(imgPath)) # Image to pixels\n",
    "        img=cv2.resize(img_pxls,(180,180))\n",
<<<<<<< HEAD
    "\n",
    "        imgName=os.path.basename(imgPath) # Getting image name\n",
    "        writer.write(f\"{imgName}\\n\\n{img_pxls}\\n\\n\") #Writing the image pixels in a text file\n"
=======
    "#             print(img_pxls.shape)\n",
    "#             print(img.shape)\n",
    "\n",
    "        imgName=os.path.basename(imgPath) # Getting image name\n",
    "        writer.write(f\"{imgName}\\n\\n{img_pxls}\\n\\n\") #Writin the image pixels in a text file\n"
>>>>>>> a7352c252cf4ef5bfa8d9fe6b36674df13c1bd4a
   ]
  },
  {
   "cell_type": "markdown",
<<<<<<< HEAD
   "id": "9d6a6eca",
   "metadata": {},
   "source": [
    "### Labelling of the Maize Leaf Dataset\n",
    "- Randomly labelled the Maize Leaf Disease Dataset"
=======
   "id": "0f916b02",
   "metadata": {},
   "source": [
    "### Labelling of the Maize Leaf Dataset"
>>>>>>> a7352c252cf4ef5bfa8d9fe6b36674df13c1bd4a
   ]
  },
  {
   "cell_type": "code",
   "execution_count": 3,
   "id": "816dc5bd",
   "metadata": {},
   "outputs": [],
   "source": [
    "maize_labels_dict={\n",
    "    \"Blight\":0,\n",
    "    \"Common Rust\":1,\n",
    "    \"Gray Leaf Spot\":2,\n",
    "    \"Healthy\":3,\n",
    "}\n",
    "maize_leaf_dict={\n",
    "    \"Blight\":list(glob.glob(f\"{data_dir}/Blight/*.jpg\")),\n",
    "    \"Common Rust\":list(glob.glob(f\"{data_dir}/Common_Rust/*.jpg\")),\n",
    "    \"Gray Leaf Spot\":list(glob.glob(f\"{data_dir}/Gray_Leaf_Spot/*.jpg\")),\n",
    "    \"Healthy\":list(glob.glob(f\"{data_dir}/Healthy/*.jpg\")),\n",
    "}\n"
   ]
  },
  {
   "cell_type": "markdown",
<<<<<<< HEAD
   "id": "c1e4a609",
   "metadata": {},
   "source": [
    "### Loading the images and turning image to pixels\n",
    "- Turned the maize leaf disease images to pixels\n",
    "- Resized the pixels to be of same size\n",
    "- Stored both the pixels and the pixels in a numpy array"
=======
   "id": "6184c89b",
   "metadata": {},
   "source": [
    "### Loading the images and turning image to pixels"
>>>>>>> a7352c252cf4ef5bfa8d9fe6b36674df13c1bd4a
   ]
  },
  {
   "cell_type": "code",
   "execution_count": 4,
   "id": "a49afd3d",
   "metadata": {},
<<<<<<< HEAD
   "outputs": [
    {
     "name": "stdout",
     "output_type": "stream",
     "text": [
      "[[[ 29  86  77]\n",
      "  [ 36  84  69]\n",
      "  [ 28  84  60]\n",
      "  ...\n",
      "  [  1 110  84]\n",
      "  [  1 103  75]\n",
      "  [  2 109  86]]\n",
      "\n",
      " [[ 19  83  66]\n",
      "  [ 24  79  58]\n",
      "  [ 27  87  62]\n",
      "  ...\n",
      "  [  3 115  87]\n",
      "  [  3 111  83]\n",
      "  [  8 109  86]]\n",
      "\n",
      " [[ 25  85  71]\n",
      "  [ 35  87  73]\n",
      "  [ 30  85  69]\n",
      "  ...\n",
      "  [  5 120  95]\n",
      "  [  4 118  96]\n",
      "  [ 14 121 103]]\n",
      "\n",
      " ...\n",
      "\n",
      " [[ 26 135  96]\n",
      "  [ 34 143 117]\n",
      "  [ 20 136 105]\n",
      "  ...\n",
      "  [ 15 125  88]\n",
      "  [ 16 124  85]\n",
      "  [ 12 123  81]]\n",
      "\n",
      " [[ 22 131  96]\n",
      "  [ 25 134 109]\n",
      "  [ 17 133 106]\n",
      "  ...\n",
      "  [ 10 122  83]\n",
      "  [ 11 116  79]\n",
      "  [ 11 118  80]]\n",
      "\n",
      " [[ 20 131  97]\n",
      "  [ 30 139 114]\n",
      "  [ 26 140 119]\n",
      "  ...\n",
      "  [ 15 124  84]\n",
      "  [ 14 117  81]\n",
      "  [ 13 113  75]]]\n",
      "[0, 0, 0, 0, 0]\n"
     ]
    }
   ],
=======
   "outputs": [],
>>>>>>> a7352c252cf4ef5bfa8d9fe6b36674df13c1bd4a
   "source": [
    "x,y=[],[]\n",
    "for maize_name,images in maize_leaf_dict.items():\n",
    "    for image in images:\n",
    "        img=cv2.imread(str(image))#Convert image to pixels\n",
    "        resized_img=cv2.resize(img,(180,180))#Images to be of same size\n",
    "        x.append(resized_img)#Pixels\n",
    "        y.append(maize_labels_dict[maize_name])#Label Random 0,1,2,3\n",
<<<<<<< HEAD
    "print(x[0])\n",
    "print(y[:5])\n",
    "x=np.array(x)\n",
    "y=np.array(y)\n"
=======
    "#     print(x[0])\n",
    "#     print(y[:5])\n",
    "x=np.array(x) #Pixels stored in numpy array\n",
    "y=np.array(y) #Labels stored in numpy array\n"
>>>>>>> a7352c252cf4ef5bfa8d9fe6b36674df13c1bd4a
   ]
  },
  {
   "cell_type": "markdown",
<<<<<<< HEAD
   "id": "6edcb125",
   "metadata": {},
   "source": [
    "### Training, Test Split\n",
    "- Splitted the entire dataset to test dataset and training dataset\n",
    "- Scalled both the training and test dataset"
=======
   "id": "3aa2297d",
   "metadata": {},
   "source": [
    "### Training, Test Split"
>>>>>>> a7352c252cf4ef5bfa8d9fe6b36674df13c1bd4a
   ]
  },
  {
   "cell_type": "code",
   "execution_count": 5,
   "id": "03afb13c",
   "metadata": {},
   "outputs": [
    {
     "name": "stdout",
     "output_type": "stream",
     "text": [
      "3139\n",
<<<<<<< HEAD
      "1047\n",
      "[[[0.15294118 0.20392157 0.21176471]\n",
      "  [0.14901961 0.2        0.20784314]\n",
      "  [0.15294118 0.20392157 0.21176471]\n",
      "  ...\n",
      "  [0.4        0.46666667 0.29411765]\n",
      "  [0.41176471 0.47843137 0.30588235]\n",
      "  [0.41568627 0.48235294 0.30980392]]\n",
      "\n",
      " [[0.18431373 0.23529412 0.24313725]\n",
      "  [0.18039216 0.23137255 0.23921569]\n",
      "  [0.17647059 0.22745098 0.23529412]\n",
      "  ...\n",
      "  [0.38823529 0.4627451  0.29019608]\n",
      "  [0.41568627 0.49019608 0.31372549]\n",
      "  [0.43529412 0.50588235 0.33333333]]\n",
      "\n",
      " [[0.24313725 0.29411765 0.30196078]\n",
      "  [0.24313725 0.29411765 0.30196078]\n",
      "  [0.23921569 0.29019608 0.29803922]\n",
      "  ...\n",
      "  [0.42352941 0.50196078 0.3254902 ]\n",
      "  [0.45490196 0.5372549  0.36078431]\n",
      "  [0.4745098  0.55294118 0.37647059]]\n",
      "\n",
      " ...\n",
      "\n",
      " [[0.59215686 0.7254902  0.6       ]\n",
      "  [0.51372549 0.64705882 0.5254902 ]\n",
      "  [0.45098039 0.58823529 0.45098039]\n",
      "  ...\n",
      "  [0.27843137 0.35686275 0.28235294]\n",
      "  [0.25098039 0.3254902  0.25098039]\n",
      "  [0.21568627 0.28627451 0.21960784]]\n",
      "\n",
      " [[0.38039216 0.51372549 0.39215686]\n",
      "  [0.34509804 0.47843137 0.35686275]\n",
      "  [0.29803922 0.43137255 0.30980392]\n",
      "  ...\n",
      "  [0.2627451  0.34117647 0.26666667]\n",
      "  [0.22352941 0.29803922 0.22745098]\n",
      "  [0.18431373 0.25490196 0.19215686]]\n",
      "\n",
      " [[0.31764706 0.45098039 0.33333333]\n",
      "  [0.29803922 0.43137255 0.30980392]\n",
      "  [0.23137255 0.36470588 0.24313725]\n",
      "  ...\n",
      "  [0.26666667 0.34117647 0.27058824]\n",
      "  [0.22745098 0.29803922 0.23529412]\n",
      "  [0.19607843 0.2627451  0.20784314]]]\n"
=======
      "1047\n"
>>>>>>> a7352c252cf4ef5bfa8d9fe6b36674df13c1bd4a
     ]
    }
   ],
   "source": [
<<<<<<< HEAD
    "x_train,x_test,y_train, y_test=train_test_split(x,y,random_state=0) #Splitting\n",
    "print(len(x_train))\n",
    "print(len(x_test))\n",
    "\n",
    "# Scalling\n",
    "x_train_scaled=x_train/255\n",
    "x_test_scaled=x_test/255\n",
=======
    "from sklearn.model_selection import train_test_split\n",
    "x_train,x_test,y_train, y_test=train_test_split(x,y,random_state=0)\n",
    "print(len(x_train))\n",
    "print(len(x_test))\n",
    "x_train_scaled=x_train/255\n",
    "x_test_scaled=x_test/255\n",
    "#Scale\n",
>>>>>>> a7352c252cf4ef5bfa8d9fe6b36674df13c1bd4a
    "print(x_train_scaled[0])\n"
   ]
  },
  {
<<<<<<< HEAD
   "cell_type": "markdown",
   "id": "712187e6",
   "metadata": {},
   "source": [
    "### Building the CNN Model\n",
    "- Used Relu as our standard activation function\n",
    "- The activation function helps in predictions\n",
    "- Max pooling helps to reduce the size of the output\n",
    "- Flattened the to 2D array to 1D array because the Dense layer works with 1D array\n",
    "- The Dense layer helps to perfom matrix-vector multiplication"
   ]
  },
  {
   "cell_type": "code",
   "execution_count": 6,
   "id": "680b9812",
   "metadata": {},
   "outputs": [],
   "source": [
    "num_classes=4\n",
    "model=Sequential([\n",
    "    layers.Conv2D(16, 3, padding='same', activation='relu'),# Applied 16 filters of 3 X 3 Matrix\n",
    "    layers.MaxPooling2D(),\n",
    "    layers.Conv2D(32, 3, padding='same', activation='relu'),\n",
    "    layers.MaxPooling2D(),\n",
    "    layers.Conv2D(64, 3, padding='same', activation='relu'),\n",
    "    layers.MaxPooling2D(),\n",
    "    layers.Flatten(),\n",
    "    #128 neourons--> try and error\n",
    "    layers.Dense(128,activation=\"relu\"),\n",
=======
   "cell_type": "code",
   "execution_count": 6,
   "id": "8f714815",
   "metadata": {},
   "outputs": [],
   "source": [
    "num_classes=4 #Blight(0),Common Rust(1),Gray Leaf Spot(2),Healthy(3)\n",
    "#Building the model CNN\n",
    "#Activation function helps in predictions\n",
    "model=Sequential([\n",
    "    # \n",
    "    layers.Conv2D(16, 3, padding='same', activation='relu'),#Relu is our standard activation layer | applied 16 filters of 3 X 3 Matrix\n",
    "    layers.MaxPooling2D(), # Reduce the size of the output by selecting the maximum value to increase computational speed \n",
    "    layers.Conv2D(32, 3, padding='same', activation='relu'),\n",
    "    layers.MaxPooling2D(),\n",
    "    layers.Conv2D(64, 3, padding='same', activation='relu'),\n",
    "    layers.MaxPooling2D(), #2D array\n",
    "    layers.Flatten(), # Flatten our values, the dense layer accepts a 1D array\n",
    "    #128 neourons--> try and error\n",
    "    layers.Dense(128,activation=\"relu\"), #Dense perform matrix-vector multiplication\n",
>>>>>>> a7352c252cf4ef5bfa8d9fe6b36674df13c1bd4a
    "    layers.Dense(num_classes) #if 0 neuron is activated it means its Blight, no activation(linear activation)\n",
    "])"
   ]
  },
  {
<<<<<<< HEAD
   "cell_type": "markdown",
   "id": "7816b318",
   "metadata": {},
   "source": [
    "### Compiling the Model\n",
    "- Used Adam as our optimization algorithm\n",
    "- Adam helps update network weights iteratively based in the maize leaf disease training data\n",
    "- Used SparseCategoricalCrossentropy since our exit value is an integer"
   ]
  },
  {
   "cell_type": "code",
   "execution_count": 7,
   "id": "7af400d2",
   "metadata": {},
   "outputs": [],
   "source": [
    "model.compile(optimizer=\"adam\",\n",
    "             loss=tf.keras.losses.SparseCategoricalCrossentropy(from_logits=True),\n",
    "              metrics=[\"accuracy\"]\n",
    "             )"
   ]
  },
  {
   "cell_type": "markdown",
   "id": "ab61a54e",
   "metadata": {},
   "source": [
    "### Fitting\n",
    "- Used the Fit function to Fit data to model\n",
    "- Fit Function helps to determine whether the training data is over trained or not"
=======
   "cell_type": "code",
   "execution_count": 7,
   "id": "70c7e771",
   "metadata": {},
   "outputs": [],
   "source": [
    "# Compile the model\n",
    "model.compile(optimizer=\"adam\",\n",
    "             loss=tf.keras.losses.SparseCategoricalCrossentropy(from_logits=True), #exit value is 4\n",
    "              #loss-->exit value\n",
    "              metrics=[\"accuracy\"]\n",
    "             )\n"
>>>>>>> a7352c252cf4ef5bfa8d9fe6b36674df13c1bd4a
   ]
  },
  {
   "cell_type": "code",
   "execution_count": 8,
<<<<<<< HEAD
   "id": "ed275cdf",
   "metadata": {},
   "outputs": [
    {
     "name": "stdout",
     "output_type": "stream",
     "text": [
      "Epoch 1/10\n",
      "99/99 [==============================] - 53s 528ms/step - loss: 0.6015 - accuracy: 0.7630\n",
      "Epoch 2/10\n",
      "99/99 [==============================] - 52s 523ms/step - loss: 0.3563 - accuracy: 0.8576\n",
      "Epoch 3/10\n",
      "99/99 [==============================] - 50s 506ms/step - loss: 0.2840 - accuracy: 0.8856\n",
      "Epoch 4/10\n",
      "99/99 [==============================] - 51s 511ms/step - loss: 0.2549 - accuracy: 0.8949\n",
      "Epoch 5/10\n",
      "99/99 [==============================] - 50s 507ms/step - loss: 0.2009 - accuracy: 0.9216\n",
      "Epoch 6/10\n",
      "99/99 [==============================] - 51s 515ms/step - loss: 0.1543 - accuracy: 0.9420\n",
      "Epoch 7/10\n",
      "99/99 [==============================] - 53s 536ms/step - loss: 0.1381 - accuracy: 0.9490\n",
      "Epoch 8/10\n",
      "99/99 [==============================] - 53s 539ms/step - loss: 0.1181 - accuracy: 0.9608\n",
      "Epoch 9/10\n",
      "99/99 [==============================] - 53s 535ms/step - loss: 0.1066 - accuracy: 0.9637\n",
      "Epoch 10/10\n",
      "99/99 [==============================] - 55s 551ms/step - loss: 0.0590 - accuracy: 0.9838\n"
     ]
    },
    {
     "data": {
      "text/plain": [
       "<keras.callbacks.History at 0x27fd6d99580>"
      ]
     },
     "execution_count": 8,
     "metadata": {},
     "output_type": "execute_result"
    }
   ],
   "source": [
    "model.fit(x_train_scaled,y_train,epochs=10)"
   ]
  },
  {
   "cell_type": "markdown",
   "id": "37d5afc6",
   "metadata": {},
   "source": [
    "### Evaluating Test Dataset"
   ]
  },
  {
   "cell_type": "code",
   "execution_count": 9,
   "id": "9027fb34",
=======
   "id": "105b69dd",
>>>>>>> a7352c252cf4ef5bfa8d9fe6b36674df13c1bd4a
   "metadata": {},
   "outputs": [
    {
     "name": "stdout",
     "output_type": "stream",
     "text": [
<<<<<<< HEAD
      "33/33 [==============================] - 5s 147ms/step - loss: 0.4099 - accuracy: 0.9074\n"
     ]
    },
    {
     "data": {
      "text/plain": [
       "[0.40986698865890503, 0.9073543548583984]"
      ]
     },
     "execution_count": 9,
     "metadata": {},
     "output_type": "execute_result"
    }
   ],
   "source": [
    "model.evaluate(x_test_scaled,y_test)"
   ]
  },
  {
   "cell_type": "markdown",
   "id": "13c5b133",
   "metadata": {},
   "source": [
    "### Predictions"
   ]
  },
  {
   "cell_type": "code",
   "execution_count": 10,
   "id": "cad80bec",
   "metadata": {},
   "outputs": [
    {
     "data": {
      "text/plain": [
       "array([[ -2.1102455 ,   0.7917892 ,  -4.6587834 ,   6.920009  ],\n",
       "       [-15.232167  ,  52.050568  , -14.83034   ,  -9.451939  ],\n",
       "       [  8.272158  ,  -2.1822655 ,  -2.8043728 ,  -7.0836887 ],\n",
       "       ...,\n",
       "       [ -1.6855556 ,   0.23923692,  -3.4094858 ,   6.992511  ],\n",
       "       [ 11.144519  ,  -1.9366518 ,   3.3907027 , -20.496363  ],\n",
       "       [ -9.667663  ,  47.646446  , -11.696061  , -20.03763   ]],\n",
       "      dtype=float32)"
      ]
     },
     "execution_count": 10,
     "metadata": {},
     "output_type": "execute_result"
    }
   ],
   "source": [
    "predictions=model.predict(x_test_scaled)\n",
    "predictions"
   ]
  },
  {
   "cell_type": "markdown",
   "id": "4a36907c",
   "metadata": {},
   "source": [
    "### Convert predictions"
   ]
  },
  {
   "cell_type": "code",
   "execution_count": 11,
   "id": "c4bb8c99",
   "metadata": {},
   "outputs": [
    {
     "data": {
      "text/plain": [
       "<tf.Tensor: shape=(4,), dtype=float32, numpy=\n",
       "array([1.1945615e-04, 2.1754343e-03, 9.3409790e-06, 9.9769574e-01],\n",
       "      dtype=float32)>"
      ]
     },
     "execution_count": 11,
     "metadata": {},
     "output_type": "execute_result"
    }
   ],
   "source": [
    "score=tf.nn.softmax(predictions[0])\n",
    "score"
   ]
  },
  {
   "cell_type": "code",
   "execution_count": 12,
   "id": "1fee2492",
   "metadata": {},
   "outputs": [
    {
     "data": {
      "text/plain": [
       "3"
      ]
     },
     "execution_count": 12,
     "metadata": {},
     "output_type": "execute_result"
    }
   ],
   "source": [
    "np.argmax(score) #Gray Leaf spot Index of the element that is maximum"
   ]
  },
  {
   "cell_type": "code",
   "execution_count": 13,
   "id": "801d2e78",
   "metadata": {},
   "outputs": [
    {
     "data": {
      "text/plain": [
       "3"
      ]
     },
     "execution_count": 13,
     "metadata": {},
     "output_type": "execute_result"
    }
   ],
   "source": [
    "y_test[0]"
   ]
  },
  {
   "cell_type": "code",
   "execution_count": 14,
   "id": "15b11980",
   "metadata": {},
   "outputs": [
    {
     "data": {
      "text/plain": [
       "<matplotlib.image.AxesImage at 0x27fd82099d0>"
      ]
     },
     "execution_count": 14,
     "metadata": {},
     "output_type": "execute_result"
    }
   ],
   "source": [
    "data_augmentation=Sequential([\n",
    "    layers.experimental.preprocessing.RandomContrast(0.9)\n",
    "])\n",
    "plt.axis('off')\n",
    "plt.imshow(x[0])"
   ]
  },
  {
   "cell_type": "code",
   "execution_count": 15,
   "id": "d1159686",
   "metadata": {},
   "outputs": [
    {
     "data": {
      "text/plain": [
       "<tf.Tensor: shape=(180, 180, 3), dtype=uint8, numpy=\n",
       "array([[[ 30,  87,  78],\n",
       "        [ 37,  85,  70],\n",
       "        [ 29,  85,  61],\n",
       "        ...,\n",
       "        [  3, 111,  85],\n",
       "        [  3, 104,  76],\n",
       "        [  4, 110,  87]],\n",
       "\n",
       "       [[ 20,  84,  67],\n",
       "        [ 25,  80,  59],\n",
       "        [ 28,  88,  63],\n",
       "        ...,\n",
       "        [  5, 115,  88],\n",
       "        [  5, 112,  84],\n",
       "        [ 10, 110,  87]],\n",
       "\n",
       "       [[ 26,  86,  72],\n",
       "        [ 36,  88,  74],\n",
       "        [ 31,  86,  70],\n",
       "        ...,\n",
       "        [  7, 120,  95],\n",
       "        [  6, 118,  96],\n",
       "        [ 16, 121, 103]],\n",
       "\n",
       "       ...,\n",
       "\n",
       "       [[ 27, 135,  96],\n",
       "        [ 35, 143, 117],\n",
       "        [ 21, 136, 105],\n",
       "        ...,\n",
       "        [ 17, 125,  88],\n",
       "        [ 18, 124,  86],\n",
       "        [ 14, 123,  82]],\n",
       "\n",
       "       [[ 23, 131,  96],\n",
       "        [ 26, 134, 109],\n",
       "        [ 18, 133, 106],\n",
       "        ...,\n",
       "        [ 12, 122,  84],\n",
       "        [ 13, 116,  80],\n",
       "        [ 13, 118,  81]],\n",
       "\n",
       "       [[ 21, 131,  97],\n",
       "        [ 31, 139, 114],\n",
       "        [ 27, 140, 119],\n",
       "        ...,\n",
       "        [ 17, 124,  85],\n",
       "        [ 16, 117,  82],\n",
       "        [ 15, 114,  76]]], dtype=uint8)>"
      ]
     },
     "execution_count": 15,
     "metadata": {},
     "output_type": "execute_result"
    }
   ],
   "source": [
    "data_augmentation(x)[0]"
   ]
  },
  {
   "cell_type": "code",
   "execution_count": 16,
   "id": "84949840",
   "metadata": {},
   "outputs": [
    {
     "name": "stderr",
     "output_type": "stream",
     "text": [
      "C:\\Users\\User\\anaconda3\\lib\\site-packages\\matplotlib\\cbook\\__init__.py:2265: FutureWarning: elementwise comparison failed; returning scalar instead, but in the future will perform elementwise comparison\n",
      "  if v not in values:\n"
     ]
    },
    {
     "ename": "ValueError",
     "evalue": "array([[[ 68, 118, 102],\n        [ 72, 117,  98],\n        [ 68, 117,  94],\n        ...,\n        [ 55, 130, 105],\n        [ 55, 126, 101],\n        [ 55, 129, 106]],\n\n       [[ 63, 117,  96],\n        [ 66, 115,  93],\n        [ 67, 119,  95],\n        ...,\n        [ 56, 132, 106],\n        [ 56, 130, 105],\n        [ 58, 129, 106]],\n\n       [[ 66, 118,  99],\n        [ 71, 119, 100],\n        [ 69, 118,  98],\n        ...,\n        [ 57, 134, 110],\n        [ 56, 133, 111],\n        [ 61, 135, 114]],\n\n       ...,\n\n       [[ 67, 141, 111],\n        [ 71, 145, 121],\n        [ 64, 142, 115],\n        ...,\n        [ 62, 137, 107],\n        [ 62, 136, 106],\n        [ 60, 136, 104]],\n\n       [[ 65, 140, 111],\n        [ 66, 141, 117],\n        [ 63, 141, 116],\n        ...,\n        [ 59, 135, 105],\n        [ 60, 132, 103],\n        [ 60, 133, 103]],\n\n       [[ 64, 140, 111],\n        [ 69, 143, 119],\n        [ 67, 144, 122],\n        ...,\n        [ 62, 136, 105],\n        [ 61, 133, 104],\n        [ 61, 131, 101]]], dtype=uint8) is not a valid value for name; supported values are 'Accent', 'Accent_r', 'Blues', 'Blues_r', 'BrBG', 'BrBG_r', 'BuGn', 'BuGn_r', 'BuPu', 'BuPu_r', 'CMRmap', 'CMRmap_r', 'Dark2', 'Dark2_r', 'GnBu', 'GnBu_r', 'Greens', 'Greens_r', 'Greys', 'Greys_r', 'OrRd', 'OrRd_r', 'Oranges', 'Oranges_r', 'PRGn', 'PRGn_r', 'Paired', 'Paired_r', 'Pastel1', 'Pastel1_r', 'Pastel2', 'Pastel2_r', 'PiYG', 'PiYG_r', 'PuBu', 'PuBuGn', 'PuBuGn_r', 'PuBu_r', 'PuOr', 'PuOr_r', 'PuRd', 'PuRd_r', 'Purples', 'Purples_r', 'RdBu', 'RdBu_r', 'RdGy', 'RdGy_r', 'RdPu', 'RdPu_r', 'RdYlBu', 'RdYlBu_r', 'RdYlGn', 'RdYlGn_r', 'Reds', 'Reds_r', 'Set1', 'Set1_r', 'Set2', 'Set2_r', 'Set3', 'Set3_r', 'Spectral', 'Spectral_r', 'Wistia', 'Wistia_r', 'YlGn', 'YlGnBu', 'YlGnBu_r', 'YlGn_r', 'YlOrBr', 'YlOrBr_r', 'YlOrRd', 'YlOrRd_r', 'afmhot', 'afmhot_r', 'autumn', 'autumn_r', 'binary', 'binary_r', 'bone', 'bone_r', 'brg', 'brg_r', 'bwr', 'bwr_r', 'cividis', 'cividis_r', 'cool', 'cool_r', 'coolwarm', 'coolwarm_r', 'copper', 'copper_r', 'cubehelix', 'cubehelix_r', 'flag', 'flag_r', 'gist_earth', 'gist_earth_r', 'gist_gray', 'gist_gray_r', 'gist_heat', 'gist_heat_r', 'gist_ncar', 'gist_ncar_r', 'gist_rainbow', 'gist_rainbow_r', 'gist_stern', 'gist_stern_r', 'gist_yarg', 'gist_yarg_r', 'gnuplot', 'gnuplot2', 'gnuplot2_r', 'gnuplot_r', 'gray', 'gray_r', 'hot', 'hot_r', 'hsv', 'hsv_r', 'inferno', 'inferno_r', 'jet', 'jet_r', 'magma', 'magma_r', 'nipy_spectral', 'nipy_spectral_r', 'ocean', 'ocean_r', 'pink', 'pink_r', 'plasma', 'plasma_r', 'prism', 'prism_r', 'rainbow', 'rainbow_r', 'seismic', 'seismic_r', 'spring', 'spring_r', 'summer', 'summer_r', 'tab10', 'tab10_r', 'tab20', 'tab20_r', 'tab20b', 'tab20b_r', 'tab20c', 'tab20c_r', 'terrain', 'terrain_r', 'turbo', 'turbo_r', 'twilight', 'twilight_r', 'twilight_shifted', 'twilight_shifted_r', 'viridis', 'viridis_r', 'winter', 'winter_r'",
     "output_type": "error",
     "traceback": [
      "\u001b[1;31m---------------------------------------------------------------------------\u001b[0m",
      "\u001b[1;31mValueError\u001b[0m                                Traceback (most recent call last)",
      "Input \u001b[1;32mIn [16]\u001b[0m, in \u001b[0;36m<module>\u001b[1;34m\u001b[0m\n\u001b[0;32m      1\u001b[0m plt\u001b[38;5;241m.\u001b[39maxis(\u001b[38;5;124m'\u001b[39m\u001b[38;5;124moff\u001b[39m\u001b[38;5;124m'\u001b[39m)\n\u001b[0;32m      2\u001b[0m plt\u001b[38;5;241m.\u001b[39mimshow(data_augmentation(x)[\u001b[38;5;241m0\u001b[39m]\u001b[38;5;241m.\u001b[39mnumpy()\u001b[38;5;241m.\u001b[39mastype(\u001b[38;5;124m'\u001b[39m\u001b[38;5;124muint8\u001b[39m\u001b[38;5;124m'\u001b[39m))\n\u001b[1;32m----> 3\u001b[0m \u001b[43mplt\u001b[49m\u001b[38;5;241;43m.\u001b[39;49m\u001b[43mimshow\u001b[49m\u001b[43m(\u001b[49m\u001b[38;5;124;43m\"\u001b[39;49m\u001b[38;5;124;43mimage\u001b[39;49m\u001b[38;5;124;43m\"\u001b[39;49m\u001b[43m,\u001b[49m\u001b[43mdata_augmentation\u001b[49m\u001b[43m(\u001b[49m\u001b[43mx\u001b[49m\u001b[43m)\u001b[49m\u001b[43m[\u001b[49m\u001b[38;5;241;43m0\u001b[39;49m\u001b[43m]\u001b[49m\u001b[38;5;241;43m.\u001b[39;49m\u001b[43mnumpy\u001b[49m\u001b[43m(\u001b[49m\u001b[43m)\u001b[49m\u001b[38;5;241;43m.\u001b[39;49m\u001b[43mastype\u001b[49m\u001b[43m(\u001b[49m\u001b[38;5;124;43m'\u001b[39;49m\u001b[38;5;124;43muint8\u001b[39;49m\u001b[38;5;124;43m'\u001b[39;49m\u001b[43m)\u001b[49m\u001b[43m)\u001b[49m\n",
      "File \u001b[1;32m~\\anaconda3\\lib\\site-packages\\matplotlib\\pyplot.py:2724\u001b[0m, in \u001b[0;36mimshow\u001b[1;34m(X, cmap, norm, aspect, interpolation, alpha, vmin, vmax, origin, extent, filternorm, filterrad, resample, url, data, **kwargs)\u001b[0m\n\u001b[0;32m   2718\u001b[0m \u001b[38;5;129m@_copy_docstring_and_deprecators\u001b[39m(Axes\u001b[38;5;241m.\u001b[39mimshow)\n\u001b[0;32m   2719\u001b[0m \u001b[38;5;28;01mdef\u001b[39;00m \u001b[38;5;21mimshow\u001b[39m(\n\u001b[0;32m   2720\u001b[0m         X, cmap\u001b[38;5;241m=\u001b[39m\u001b[38;5;28;01mNone\u001b[39;00m, norm\u001b[38;5;241m=\u001b[39m\u001b[38;5;28;01mNone\u001b[39;00m, aspect\u001b[38;5;241m=\u001b[39m\u001b[38;5;28;01mNone\u001b[39;00m, interpolation\u001b[38;5;241m=\u001b[39m\u001b[38;5;28;01mNone\u001b[39;00m,\n\u001b[0;32m   2721\u001b[0m         alpha\u001b[38;5;241m=\u001b[39m\u001b[38;5;28;01mNone\u001b[39;00m, vmin\u001b[38;5;241m=\u001b[39m\u001b[38;5;28;01mNone\u001b[39;00m, vmax\u001b[38;5;241m=\u001b[39m\u001b[38;5;28;01mNone\u001b[39;00m, origin\u001b[38;5;241m=\u001b[39m\u001b[38;5;28;01mNone\u001b[39;00m, extent\u001b[38;5;241m=\u001b[39m\u001b[38;5;28;01mNone\u001b[39;00m, \u001b[38;5;241m*\u001b[39m,\n\u001b[0;32m   2722\u001b[0m         filternorm\u001b[38;5;241m=\u001b[39m\u001b[38;5;28;01mTrue\u001b[39;00m, filterrad\u001b[38;5;241m=\u001b[39m\u001b[38;5;241m4.0\u001b[39m, resample\u001b[38;5;241m=\u001b[39m\u001b[38;5;28;01mNone\u001b[39;00m, url\u001b[38;5;241m=\u001b[39m\u001b[38;5;28;01mNone\u001b[39;00m,\n\u001b[0;32m   2723\u001b[0m         data\u001b[38;5;241m=\u001b[39m\u001b[38;5;28;01mNone\u001b[39;00m, \u001b[38;5;241m*\u001b[39m\u001b[38;5;241m*\u001b[39mkwargs):\n\u001b[1;32m-> 2724\u001b[0m     __ret \u001b[38;5;241m=\u001b[39m \u001b[43mgca\u001b[49m\u001b[43m(\u001b[49m\u001b[43m)\u001b[49m\u001b[38;5;241;43m.\u001b[39;49m\u001b[43mimshow\u001b[49m\u001b[43m(\u001b[49m\n\u001b[0;32m   2725\u001b[0m \u001b[43m        \u001b[49m\u001b[43mX\u001b[49m\u001b[43m,\u001b[49m\u001b[43m \u001b[49m\u001b[43mcmap\u001b[49m\u001b[38;5;241;43m=\u001b[39;49m\u001b[43mcmap\u001b[49m\u001b[43m,\u001b[49m\u001b[43m \u001b[49m\u001b[43mnorm\u001b[49m\u001b[38;5;241;43m=\u001b[39;49m\u001b[43mnorm\u001b[49m\u001b[43m,\u001b[49m\u001b[43m \u001b[49m\u001b[43maspect\u001b[49m\u001b[38;5;241;43m=\u001b[39;49m\u001b[43maspect\u001b[49m\u001b[43m,\u001b[49m\n\u001b[0;32m   2726\u001b[0m \u001b[43m        \u001b[49m\u001b[43minterpolation\u001b[49m\u001b[38;5;241;43m=\u001b[39;49m\u001b[43minterpolation\u001b[49m\u001b[43m,\u001b[49m\u001b[43m \u001b[49m\u001b[43malpha\u001b[49m\u001b[38;5;241;43m=\u001b[39;49m\u001b[43malpha\u001b[49m\u001b[43m,\u001b[49m\u001b[43m \u001b[49m\u001b[43mvmin\u001b[49m\u001b[38;5;241;43m=\u001b[39;49m\u001b[43mvmin\u001b[49m\u001b[43m,\u001b[49m\n\u001b[0;32m   2727\u001b[0m \u001b[43m        \u001b[49m\u001b[43mvmax\u001b[49m\u001b[38;5;241;43m=\u001b[39;49m\u001b[43mvmax\u001b[49m\u001b[43m,\u001b[49m\u001b[43m \u001b[49m\u001b[43morigin\u001b[49m\u001b[38;5;241;43m=\u001b[39;49m\u001b[43morigin\u001b[49m\u001b[43m,\u001b[49m\u001b[43m \u001b[49m\u001b[43mextent\u001b[49m\u001b[38;5;241;43m=\u001b[39;49m\u001b[43mextent\u001b[49m\u001b[43m,\u001b[49m\n\u001b[0;32m   2728\u001b[0m \u001b[43m        \u001b[49m\u001b[43mfilternorm\u001b[49m\u001b[38;5;241;43m=\u001b[39;49m\u001b[43mfilternorm\u001b[49m\u001b[43m,\u001b[49m\u001b[43m \u001b[49m\u001b[43mfilterrad\u001b[49m\u001b[38;5;241;43m=\u001b[39;49m\u001b[43mfilterrad\u001b[49m\u001b[43m,\u001b[49m\u001b[43m \u001b[49m\u001b[43mresample\u001b[49m\u001b[38;5;241;43m=\u001b[39;49m\u001b[43mresample\u001b[49m\u001b[43m,\u001b[49m\n\u001b[0;32m   2729\u001b[0m \u001b[43m        \u001b[49m\u001b[43murl\u001b[49m\u001b[38;5;241;43m=\u001b[39;49m\u001b[43murl\u001b[49m\u001b[43m,\u001b[49m\u001b[43m \u001b[49m\u001b[38;5;241;43m*\u001b[39;49m\u001b[38;5;241;43m*\u001b[39;49m\u001b[43m(\u001b[49m\u001b[43m{\u001b[49m\u001b[38;5;124;43m\"\u001b[39;49m\u001b[38;5;124;43mdata\u001b[39;49m\u001b[38;5;124;43m\"\u001b[39;49m\u001b[43m:\u001b[49m\u001b[43m \u001b[49m\u001b[43mdata\u001b[49m\u001b[43m}\u001b[49m\u001b[43m \u001b[49m\u001b[38;5;28;43;01mif\u001b[39;49;00m\u001b[43m \u001b[49m\u001b[43mdata\u001b[49m\u001b[43m \u001b[49m\u001b[38;5;129;43;01mis\u001b[39;49;00m\u001b[43m \u001b[49m\u001b[38;5;129;43;01mnot\u001b[39;49;00m\u001b[43m \u001b[49m\u001b[38;5;28;43;01mNone\u001b[39;49;00m\u001b[43m \u001b[49m\u001b[38;5;28;43;01melse\u001b[39;49;00m\u001b[43m \u001b[49m\u001b[43m{\u001b[49m\u001b[43m}\u001b[49m\u001b[43m)\u001b[49m\u001b[43m,\u001b[49m\n\u001b[0;32m   2730\u001b[0m \u001b[43m        \u001b[49m\u001b[38;5;241;43m*\u001b[39;49m\u001b[38;5;241;43m*\u001b[39;49m\u001b[43mkwargs\u001b[49m\u001b[43m)\u001b[49m\n\u001b[0;32m   2731\u001b[0m     sci(__ret)\n\u001b[0;32m   2732\u001b[0m     \u001b[38;5;28;01mreturn\u001b[39;00m __ret\n",
      "File \u001b[1;32m~\\anaconda3\\lib\\site-packages\\matplotlib\\__init__.py:1447\u001b[0m, in \u001b[0;36m_preprocess_data.<locals>.inner\u001b[1;34m(ax, data, *args, **kwargs)\u001b[0m\n\u001b[0;32m   1444\u001b[0m \u001b[38;5;129m@functools\u001b[39m\u001b[38;5;241m.\u001b[39mwraps(func)\n\u001b[0;32m   1445\u001b[0m \u001b[38;5;28;01mdef\u001b[39;00m \u001b[38;5;21minner\u001b[39m(ax, \u001b[38;5;241m*\u001b[39margs, data\u001b[38;5;241m=\u001b[39m\u001b[38;5;28;01mNone\u001b[39;00m, \u001b[38;5;241m*\u001b[39m\u001b[38;5;241m*\u001b[39mkwargs):\n\u001b[0;32m   1446\u001b[0m     \u001b[38;5;28;01mif\u001b[39;00m data \u001b[38;5;129;01mis\u001b[39;00m \u001b[38;5;28;01mNone\u001b[39;00m:\n\u001b[1;32m-> 1447\u001b[0m         \u001b[38;5;28;01mreturn\u001b[39;00m \u001b[43mfunc\u001b[49m\u001b[43m(\u001b[49m\u001b[43max\u001b[49m\u001b[43m,\u001b[49m\u001b[43m \u001b[49m\u001b[38;5;241;43m*\u001b[39;49m\u001b[38;5;28;43mmap\u001b[39;49m\u001b[43m(\u001b[49m\u001b[43msanitize_sequence\u001b[49m\u001b[43m,\u001b[49m\u001b[43m \u001b[49m\u001b[43margs\u001b[49m\u001b[43m)\u001b[49m\u001b[43m,\u001b[49m\u001b[43m \u001b[49m\u001b[38;5;241;43m*\u001b[39;49m\u001b[38;5;241;43m*\u001b[39;49m\u001b[43mkwargs\u001b[49m\u001b[43m)\u001b[49m\n\u001b[0;32m   1449\u001b[0m     bound \u001b[38;5;241m=\u001b[39m new_sig\u001b[38;5;241m.\u001b[39mbind(ax, \u001b[38;5;241m*\u001b[39margs, \u001b[38;5;241m*\u001b[39m\u001b[38;5;241m*\u001b[39mkwargs)\n\u001b[0;32m   1450\u001b[0m     auto_label \u001b[38;5;241m=\u001b[39m (bound\u001b[38;5;241m.\u001b[39marguments\u001b[38;5;241m.\u001b[39mget(label_namer)\n\u001b[0;32m   1451\u001b[0m                   \u001b[38;5;129;01mor\u001b[39;00m bound\u001b[38;5;241m.\u001b[39mkwargs\u001b[38;5;241m.\u001b[39mget(label_namer))\n",
      "File \u001b[1;32m~\\anaconda3\\lib\\site-packages\\matplotlib\\axes\\_axes.py:5519\u001b[0m, in \u001b[0;36mAxes.imshow\u001b[1;34m(self, X, cmap, norm, aspect, interpolation, alpha, vmin, vmax, origin, extent, filternorm, filterrad, resample, url, **kwargs)\u001b[0m\n\u001b[0;32m   5517\u001b[0m     aspect \u001b[38;5;241m=\u001b[39m rcParams[\u001b[38;5;124m'\u001b[39m\u001b[38;5;124mimage.aspect\u001b[39m\u001b[38;5;124m'\u001b[39m]\n\u001b[0;32m   5518\u001b[0m \u001b[38;5;28mself\u001b[39m\u001b[38;5;241m.\u001b[39mset_aspect(aspect)\n\u001b[1;32m-> 5519\u001b[0m im \u001b[38;5;241m=\u001b[39m \u001b[43mmimage\u001b[49m\u001b[38;5;241;43m.\u001b[39;49m\u001b[43mAxesImage\u001b[49m\u001b[43m(\u001b[49m\u001b[38;5;28;43mself\u001b[39;49m\u001b[43m,\u001b[49m\u001b[43m \u001b[49m\u001b[43mcmap\u001b[49m\u001b[43m,\u001b[49m\u001b[43m \u001b[49m\u001b[43mnorm\u001b[49m\u001b[43m,\u001b[49m\u001b[43m \u001b[49m\u001b[43minterpolation\u001b[49m\u001b[43m,\u001b[49m\u001b[43m \u001b[49m\u001b[43morigin\u001b[49m\u001b[43m,\u001b[49m\u001b[43m \u001b[49m\u001b[43mextent\u001b[49m\u001b[43m,\u001b[49m\n\u001b[0;32m   5520\u001b[0m \u001b[43m                      \u001b[49m\u001b[43mfilternorm\u001b[49m\u001b[38;5;241;43m=\u001b[39;49m\u001b[43mfilternorm\u001b[49m\u001b[43m,\u001b[49m\u001b[43m \u001b[49m\u001b[43mfilterrad\u001b[49m\u001b[38;5;241;43m=\u001b[39;49m\u001b[43mfilterrad\u001b[49m\u001b[43m,\u001b[49m\n\u001b[0;32m   5521\u001b[0m \u001b[43m                      \u001b[49m\u001b[43mresample\u001b[49m\u001b[38;5;241;43m=\u001b[39;49m\u001b[43mresample\u001b[49m\u001b[43m,\u001b[49m\u001b[43m \u001b[49m\u001b[38;5;241;43m*\u001b[39;49m\u001b[38;5;241;43m*\u001b[39;49m\u001b[43mkwargs\u001b[49m\u001b[43m)\u001b[49m\n\u001b[0;32m   5523\u001b[0m im\u001b[38;5;241m.\u001b[39mset_data(X)\n\u001b[0;32m   5524\u001b[0m im\u001b[38;5;241m.\u001b[39mset_alpha(alpha)\n",
      "File \u001b[1;32m~\\anaconda3\\lib\\site-packages\\matplotlib\\image.py:902\u001b[0m, in \u001b[0;36mAxesImage.__init__\u001b[1;34m(self, ax, cmap, norm, interpolation, origin, extent, filternorm, filterrad, resample, **kwargs)\u001b[0m\n\u001b[0;32m    888\u001b[0m \u001b[38;5;28;01mdef\u001b[39;00m \u001b[38;5;21m__init__\u001b[39m(\u001b[38;5;28mself\u001b[39m, ax,\n\u001b[0;32m    889\u001b[0m              cmap\u001b[38;5;241m=\u001b[39m\u001b[38;5;28;01mNone\u001b[39;00m,\n\u001b[0;32m    890\u001b[0m              norm\u001b[38;5;241m=\u001b[39m\u001b[38;5;28;01mNone\u001b[39;00m,\n\u001b[1;32m   (...)\u001b[0m\n\u001b[0;32m    897\u001b[0m              \u001b[38;5;241m*\u001b[39m\u001b[38;5;241m*\u001b[39mkwargs\n\u001b[0;32m    898\u001b[0m              ):\n\u001b[0;32m    900\u001b[0m     \u001b[38;5;28mself\u001b[39m\u001b[38;5;241m.\u001b[39m_extent \u001b[38;5;241m=\u001b[39m extent\n\u001b[1;32m--> 902\u001b[0m     \u001b[38;5;28;43msuper\u001b[39;49m\u001b[43m(\u001b[49m\u001b[43m)\u001b[49m\u001b[38;5;241;43m.\u001b[39;49m\u001b[38;5;21;43m__init__\u001b[39;49m\u001b[43m(\u001b[49m\n\u001b[0;32m    903\u001b[0m \u001b[43m        \u001b[49m\u001b[43max\u001b[49m\u001b[43m,\u001b[49m\n\u001b[0;32m    904\u001b[0m \u001b[43m        \u001b[49m\u001b[43mcmap\u001b[49m\u001b[38;5;241;43m=\u001b[39;49m\u001b[43mcmap\u001b[49m\u001b[43m,\u001b[49m\n\u001b[0;32m    905\u001b[0m \u001b[43m        \u001b[49m\u001b[43mnorm\u001b[49m\u001b[38;5;241;43m=\u001b[39;49m\u001b[43mnorm\u001b[49m\u001b[43m,\u001b[49m\n\u001b[0;32m    906\u001b[0m \u001b[43m        \u001b[49m\u001b[43minterpolation\u001b[49m\u001b[38;5;241;43m=\u001b[39;49m\u001b[43minterpolation\u001b[49m\u001b[43m,\u001b[49m\n\u001b[0;32m    907\u001b[0m \u001b[43m        \u001b[49m\u001b[43morigin\u001b[49m\u001b[38;5;241;43m=\u001b[39;49m\u001b[43morigin\u001b[49m\u001b[43m,\u001b[49m\n\u001b[0;32m    908\u001b[0m \u001b[43m        \u001b[49m\u001b[43mfilternorm\u001b[49m\u001b[38;5;241;43m=\u001b[39;49m\u001b[43mfilternorm\u001b[49m\u001b[43m,\u001b[49m\n\u001b[0;32m    909\u001b[0m \u001b[43m        \u001b[49m\u001b[43mfilterrad\u001b[49m\u001b[38;5;241;43m=\u001b[39;49m\u001b[43mfilterrad\u001b[49m\u001b[43m,\u001b[49m\n\u001b[0;32m    910\u001b[0m \u001b[43m        \u001b[49m\u001b[43mresample\u001b[49m\u001b[38;5;241;43m=\u001b[39;49m\u001b[43mresample\u001b[49m\u001b[43m,\u001b[49m\n\u001b[0;32m    911\u001b[0m \u001b[43m        \u001b[49m\u001b[38;5;241;43m*\u001b[39;49m\u001b[38;5;241;43m*\u001b[39;49m\u001b[43mkwargs\u001b[49m\n\u001b[0;32m    912\u001b[0m \u001b[43m    \u001b[49m\u001b[43m)\u001b[49m\n",
      "File \u001b[1;32m~\\anaconda3\\lib\\site-packages\\matplotlib\\image.py:243\u001b[0m, in \u001b[0;36m_ImageBase.__init__\u001b[1;34m(self, ax, cmap, norm, interpolation, origin, filternorm, filterrad, resample, **kwargs)\u001b[0m\n\u001b[0;32m    232\u001b[0m \u001b[38;5;28;01mdef\u001b[39;00m \u001b[38;5;21m__init__\u001b[39m(\u001b[38;5;28mself\u001b[39m, ax,\n\u001b[0;32m    233\u001b[0m              cmap\u001b[38;5;241m=\u001b[39m\u001b[38;5;28;01mNone\u001b[39;00m,\n\u001b[0;32m    234\u001b[0m              norm\u001b[38;5;241m=\u001b[39m\u001b[38;5;28;01mNone\u001b[39;00m,\n\u001b[1;32m   (...)\u001b[0m\n\u001b[0;32m    240\u001b[0m              \u001b[38;5;241m*\u001b[39m\u001b[38;5;241m*\u001b[39mkwargs\n\u001b[0;32m    241\u001b[0m              ):\n\u001b[0;32m    242\u001b[0m     martist\u001b[38;5;241m.\u001b[39mArtist\u001b[38;5;241m.\u001b[39m\u001b[38;5;21m__init__\u001b[39m(\u001b[38;5;28mself\u001b[39m)\n\u001b[1;32m--> 243\u001b[0m     \u001b[43mcm\u001b[49m\u001b[38;5;241;43m.\u001b[39;49m\u001b[43mScalarMappable\u001b[49m\u001b[38;5;241;43m.\u001b[39;49m\u001b[38;5;21;43m__init__\u001b[39;49m\u001b[43m(\u001b[49m\u001b[38;5;28;43mself\u001b[39;49m\u001b[43m,\u001b[49m\u001b[43m \u001b[49m\u001b[43mnorm\u001b[49m\u001b[43m,\u001b[49m\u001b[43m \u001b[49m\u001b[43mcmap\u001b[49m\u001b[43m)\u001b[49m\n\u001b[0;32m    244\u001b[0m     \u001b[38;5;28;01mif\u001b[39;00m origin \u001b[38;5;129;01mis\u001b[39;00m \u001b[38;5;28;01mNone\u001b[39;00m:\n\u001b[0;32m    245\u001b[0m         origin \u001b[38;5;241m=\u001b[39m mpl\u001b[38;5;241m.\u001b[39mrcParams[\u001b[38;5;124m'\u001b[39m\u001b[38;5;124mimage.origin\u001b[39m\u001b[38;5;124m'\u001b[39m]\n",
      "File \u001b[1;32m~\\anaconda3\\lib\\site-packages\\matplotlib\\cm.py:236\u001b[0m, in \u001b[0;36mScalarMappable.__init__\u001b[1;34m(self, norm, cmap)\u001b[0m\n\u001b[0;32m    234\u001b[0m \u001b[38;5;28mself\u001b[39m\u001b[38;5;241m.\u001b[39mset_norm(norm)  \u001b[38;5;66;03m# The Normalize instance of this ScalarMappable.\u001b[39;00m\n\u001b[0;32m    235\u001b[0m \u001b[38;5;28mself\u001b[39m\u001b[38;5;241m.\u001b[39mcmap \u001b[38;5;241m=\u001b[39m \u001b[38;5;28;01mNone\u001b[39;00m  \u001b[38;5;66;03m# So that the setter knows we're initializing.\u001b[39;00m\n\u001b[1;32m--> 236\u001b[0m \u001b[38;5;28;43mself\u001b[39;49m\u001b[38;5;241;43m.\u001b[39;49m\u001b[43mset_cmap\u001b[49m\u001b[43m(\u001b[49m\u001b[43mcmap\u001b[49m\u001b[43m)\u001b[49m  \u001b[38;5;66;03m# The Colormap instance of this ScalarMappable.\u001b[39;00m\n\u001b[0;32m    237\u001b[0m \u001b[38;5;66;03m#: The last colorbar associated with this ScalarMappable. May be None.\u001b[39;00m\n\u001b[0;32m    238\u001b[0m \u001b[38;5;28mself\u001b[39m\u001b[38;5;241m.\u001b[39mcolorbar \u001b[38;5;241m=\u001b[39m \u001b[38;5;28;01mNone\u001b[39;00m\n",
      "File \u001b[1;32m~\\anaconda3\\lib\\site-packages\\matplotlib\\cm.py:405\u001b[0m, in \u001b[0;36mScalarMappable.set_cmap\u001b[1;34m(self, cmap)\u001b[0m\n\u001b[0;32m    397\u001b[0m \u001b[38;5;124;03m\"\"\"\u001b[39;00m\n\u001b[0;32m    398\u001b[0m \u001b[38;5;124;03mSet the colormap for luminance data.\u001b[39;00m\n\u001b[0;32m    399\u001b[0m \n\u001b[1;32m   (...)\u001b[0m\n\u001b[0;32m    402\u001b[0m \u001b[38;5;124;03mcmap : `.Colormap` or str or None\u001b[39;00m\n\u001b[0;32m    403\u001b[0m \u001b[38;5;124;03m\"\"\"\u001b[39;00m\n\u001b[0;32m    404\u001b[0m in_init \u001b[38;5;241m=\u001b[39m \u001b[38;5;28mself\u001b[39m\u001b[38;5;241m.\u001b[39mcmap \u001b[38;5;129;01mis\u001b[39;00m \u001b[38;5;28;01mNone\u001b[39;00m\n\u001b[1;32m--> 405\u001b[0m cmap \u001b[38;5;241m=\u001b[39m \u001b[43mget_cmap\u001b[49m\u001b[43m(\u001b[49m\u001b[43mcmap\u001b[49m\u001b[43m)\u001b[49m\n\u001b[0;32m    406\u001b[0m \u001b[38;5;28mself\u001b[39m\u001b[38;5;241m.\u001b[39mcmap \u001b[38;5;241m=\u001b[39m cmap\n\u001b[0;32m    407\u001b[0m \u001b[38;5;28;01mif\u001b[39;00m \u001b[38;5;129;01mnot\u001b[39;00m in_init:\n",
      "File \u001b[1;32m~\\anaconda3\\lib\\site-packages\\matplotlib\\cm.py:204\u001b[0m, in \u001b[0;36mget_cmap\u001b[1;34m(name, lut)\u001b[0m\n\u001b[0;32m    202\u001b[0m \u001b[38;5;28;01mif\u001b[39;00m \u001b[38;5;28misinstance\u001b[39m(name, colors\u001b[38;5;241m.\u001b[39mColormap):\n\u001b[0;32m    203\u001b[0m     \u001b[38;5;28;01mreturn\u001b[39;00m name\n\u001b[1;32m--> 204\u001b[0m \u001b[43mcbook\u001b[49m\u001b[38;5;241;43m.\u001b[39;49m\u001b[43m_check_in_list\u001b[49m\u001b[43m(\u001b[49m\u001b[38;5;28;43msorted\u001b[39;49m\u001b[43m(\u001b[49m\u001b[43m_cmap_registry\u001b[49m\u001b[43m)\u001b[49m\u001b[43m,\u001b[49m\u001b[43m \u001b[49m\u001b[43mname\u001b[49m\u001b[38;5;241;43m=\u001b[39;49m\u001b[43mname\u001b[49m\u001b[43m)\u001b[49m\n\u001b[0;32m    205\u001b[0m \u001b[38;5;28;01mif\u001b[39;00m lut \u001b[38;5;129;01mis\u001b[39;00m \u001b[38;5;28;01mNone\u001b[39;00m:\n\u001b[0;32m    206\u001b[0m     \u001b[38;5;28;01mreturn\u001b[39;00m _cmap_registry[name]\n",
      "File \u001b[1;32m~\\anaconda3\\lib\\site-packages\\matplotlib\\cbook\\__init__.py:2266\u001b[0m, in \u001b[0;36m_check_in_list\u001b[1;34m(_values, **kwargs)\u001b[0m\n\u001b[0;32m   2264\u001b[0m \u001b[38;5;28;01mfor\u001b[39;00m k, v \u001b[38;5;129;01min\u001b[39;00m kwargs\u001b[38;5;241m.\u001b[39mitems():\n\u001b[0;32m   2265\u001b[0m     \u001b[38;5;28;01mif\u001b[39;00m v \u001b[38;5;129;01mnot\u001b[39;00m \u001b[38;5;129;01min\u001b[39;00m values:\n\u001b[1;32m-> 2266\u001b[0m         \u001b[38;5;28;01mraise\u001b[39;00m \u001b[38;5;167;01mValueError\u001b[39;00m(\n\u001b[0;32m   2267\u001b[0m             \u001b[38;5;124m\"\u001b[39m\u001b[38;5;132;01m{!r}\u001b[39;00m\u001b[38;5;124m is not a valid value for \u001b[39m\u001b[38;5;132;01m{}\u001b[39;00m\u001b[38;5;124m; supported values are \u001b[39m\u001b[38;5;132;01m{}\u001b[39;00m\u001b[38;5;124m\"\u001b[39m\n\u001b[0;32m   2268\u001b[0m             \u001b[38;5;241m.\u001b[39mformat(v, k, \u001b[38;5;124m'\u001b[39m\u001b[38;5;124m, \u001b[39m\u001b[38;5;124m'\u001b[39m\u001b[38;5;241m.\u001b[39mjoin(\u001b[38;5;28mmap\u001b[39m(\u001b[38;5;28mrepr\u001b[39m, values))))\n",
      "\u001b[1;31mValueError\u001b[0m: array([[[ 68, 118, 102],\n        [ 72, 117,  98],\n        [ 68, 117,  94],\n        ...,\n        [ 55, 130, 105],\n        [ 55, 126, 101],\n        [ 55, 129, 106]],\n\n       [[ 63, 117,  96],\n        [ 66, 115,  93],\n        [ 67, 119,  95],\n        ...,\n        [ 56, 132, 106],\n        [ 56, 130, 105],\n        [ 58, 129, 106]],\n\n       [[ 66, 118,  99],\n        [ 71, 119, 100],\n        [ 69, 118,  98],\n        ...,\n        [ 57, 134, 110],\n        [ 56, 133, 111],\n        [ 61, 135, 114]],\n\n       ...,\n\n       [[ 67, 141, 111],\n        [ 71, 145, 121],\n        [ 64, 142, 115],\n        ...,\n        [ 62, 137, 107],\n        [ 62, 136, 106],\n        [ 60, 136, 104]],\n\n       [[ 65, 140, 111],\n        [ 66, 141, 117],\n        [ 63, 141, 116],\n        ...,\n        [ 59, 135, 105],\n        [ 60, 132, 103],\n        [ 60, 133, 103]],\n\n       [[ 64, 140, 111],\n        [ 69, 143, 119],\n        [ 67, 144, 122],\n        ...,\n        [ 62, 136, 105],\n        [ 61, 133, 104],\n        [ 61, 131, 101]]], dtype=uint8) is not a valid value for name; supported values are 'Accent', 'Accent_r', 'Blues', 'Blues_r', 'BrBG', 'BrBG_r', 'BuGn', 'BuGn_r', 'BuPu', 'BuPu_r', 'CMRmap', 'CMRmap_r', 'Dark2', 'Dark2_r', 'GnBu', 'GnBu_r', 'Greens', 'Greens_r', 'Greys', 'Greys_r', 'OrRd', 'OrRd_r', 'Oranges', 'Oranges_r', 'PRGn', 'PRGn_r', 'Paired', 'Paired_r', 'Pastel1', 'Pastel1_r', 'Pastel2', 'Pastel2_r', 'PiYG', 'PiYG_r', 'PuBu', 'PuBuGn', 'PuBuGn_r', 'PuBu_r', 'PuOr', 'PuOr_r', 'PuRd', 'PuRd_r', 'Purples', 'Purples_r', 'RdBu', 'RdBu_r', 'RdGy', 'RdGy_r', 'RdPu', 'RdPu_r', 'RdYlBu', 'RdYlBu_r', 'RdYlGn', 'RdYlGn_r', 'Reds', 'Reds_r', 'Set1', 'Set1_r', 'Set2', 'Set2_r', 'Set3', 'Set3_r', 'Spectral', 'Spectral_r', 'Wistia', 'Wistia_r', 'YlGn', 'YlGnBu', 'YlGnBu_r', 'YlGn_r', 'YlOrBr', 'YlOrBr_r', 'YlOrRd', 'YlOrRd_r', 'afmhot', 'afmhot_r', 'autumn', 'autumn_r', 'binary', 'binary_r', 'bone', 'bone_r', 'brg', 'brg_r', 'bwr', 'bwr_r', 'cividis', 'cividis_r', 'cool', 'cool_r', 'coolwarm', 'coolwarm_r', 'copper', 'copper_r', 'cubehelix', 'cubehelix_r', 'flag', 'flag_r', 'gist_earth', 'gist_earth_r', 'gist_gray', 'gist_gray_r', 'gist_heat', 'gist_heat_r', 'gist_ncar', 'gist_ncar_r', 'gist_rainbow', 'gist_rainbow_r', 'gist_stern', 'gist_stern_r', 'gist_yarg', 'gist_yarg_r', 'gnuplot', 'gnuplot2', 'gnuplot2_r', 'gnuplot_r', 'gray', 'gray_r', 'hot', 'hot_r', 'hsv', 'hsv_r', 'inferno', 'inferno_r', 'jet', 'jet_r', 'magma', 'magma_r', 'nipy_spectral', 'nipy_spectral_r', 'ocean', 'ocean_r', 'pink', 'pink_r', 'plasma', 'plasma_r', 'prism', 'prism_r', 'rainbow', 'rainbow_r', 'seismic', 'seismic_r', 'spring', 'spring_r', 'summer', 'summer_r', 'tab10', 'tab10_r', 'tab20', 'tab20_r', 'tab20b', 'tab20b_r', 'tab20c', 'tab20c_r', 'terrain', 'terrain_r', 'turbo', 'turbo_r', 'twilight', 'twilight_r', 'twilight_shifted', 'twilight_shifted_r', 'viridis', 'viridis_r', 'winter', 'winter_r'"
=======
      "99/99 [==============================] - 55s 543ms/step - loss: 0.5938 - accuracy: 0.7646\n",
      "Evaluate\n",
      "33/33 [==============================] - 6s 158ms/step - loss: 0.5470 - accuracy: 0.7861\n",
      "[[-1.7987967e-02 -1.5862657e+00 -5.8196443e-01  2.0177455e+00]\n",
      " [ 7.5370936e+00  1.8968250e+01  3.1816006e+00 -1.7378855e+01]\n",
      " [ 4.9515910e+00  2.6652369e+00  3.3730206e+00 -3.8650494e+00]\n",
      " ...\n",
      " [ 8.0318898e-02 -1.3762819e+00 -6.2900716e-01  1.9197729e+00]\n",
      " [ 5.7251792e+00  3.9352148e+00  4.5431533e+00 -5.9637847e+00]\n",
      " [ 7.6732254e+00  1.7796471e+01  5.3091598e+00 -1.8433516e+01]]\n",
      "tf.Tensor([0.10598596 0.02208788 0.06029988 0.8116264 ], shape=(4,), dtype=float32)\n",
      "3\n",
      "3\n"
     ]
    },
    {
     "ename": "TypeError",
     "evalue": "The added layer must be an instance of class Layer. Found: <module 'keras.api._v2.keras.layers.experimental.preprocessing' from 'C:\\\\Users\\\\User\\\\anaconda3\\\\lib\\\\site-packages\\\\keras\\\\api\\\\_v2\\\\keras\\\\layers\\\\experimental\\\\preprocessing\\\\__init__.py'>",
     "output_type": "error",
     "traceback": [
      "\u001b[1;31m---------------------------------------------------------------------------\u001b[0m",
      "\u001b[1;31mTypeError\u001b[0m                                 Traceback (most recent call last)",
      "Input \u001b[1;32mIn [8]\u001b[0m, in \u001b[0;36m<module>\u001b[1;34m\u001b[0m\n\u001b[0;32m     13\u001b[0m \u001b[38;5;28mprint\u001b[39m(np\u001b[38;5;241m.\u001b[39margmax(score))\n\u001b[0;32m     14\u001b[0m \u001b[38;5;28mprint\u001b[39m(y_test[\u001b[38;5;241m0\u001b[39m])\n\u001b[1;32m---> 15\u001b[0m data_augmentation\u001b[38;5;241m=\u001b[39m\u001b[43mSequential\u001b[49m\u001b[43m(\u001b[49m\u001b[43m[\u001b[49m\n\u001b[0;32m     16\u001b[0m \u001b[43m    \u001b[49m\u001b[43mlayers\u001b[49m\u001b[38;5;241;43m.\u001b[39;49m\u001b[43mexperimental\u001b[49m\u001b[38;5;241;43m.\u001b[39;49m\u001b[43mpreprocessing\u001b[49m\n\u001b[0;32m     17\u001b[0m \u001b[43m]\u001b[49m\u001b[43m)\u001b[49m\n\u001b[0;32m     18\u001b[0m plt\u001b[38;5;241m.\u001b[39maxis(\u001b[38;5;124m'\u001b[39m\u001b[38;5;124moff\u001b[39m\u001b[38;5;124m'\u001b[39m)\n\u001b[0;32m     19\u001b[0m plt\u001b[38;5;241m.\u001b[39mimshow(x[\u001b[38;5;241m0\u001b[39m])\n",
      "File \u001b[1;32m~\\anaconda3\\lib\\site-packages\\tensorflow\\python\\training\\tracking\\base.py:530\u001b[0m, in \u001b[0;36mno_automatic_dependency_tracking.<locals>._method_wrapper\u001b[1;34m(self, *args, **kwargs)\u001b[0m\n\u001b[0;32m    528\u001b[0m \u001b[38;5;28mself\u001b[39m\u001b[38;5;241m.\u001b[39m_self_setattr_tracking \u001b[38;5;241m=\u001b[39m \u001b[38;5;28;01mFalse\u001b[39;00m  \u001b[38;5;66;03m# pylint: disable=protected-access\u001b[39;00m\n\u001b[0;32m    529\u001b[0m \u001b[38;5;28;01mtry\u001b[39;00m:\n\u001b[1;32m--> 530\u001b[0m   result \u001b[38;5;241m=\u001b[39m \u001b[43mmethod\u001b[49m\u001b[43m(\u001b[49m\u001b[38;5;28;43mself\u001b[39;49m\u001b[43m,\u001b[49m\u001b[43m \u001b[49m\u001b[38;5;241;43m*\u001b[39;49m\u001b[43margs\u001b[49m\u001b[43m,\u001b[49m\u001b[43m \u001b[49m\u001b[38;5;241;43m*\u001b[39;49m\u001b[38;5;241;43m*\u001b[39;49m\u001b[43mkwargs\u001b[49m\u001b[43m)\u001b[49m\n\u001b[0;32m    531\u001b[0m \u001b[38;5;28;01mfinally\u001b[39;00m:\n\u001b[0;32m    532\u001b[0m   \u001b[38;5;28mself\u001b[39m\u001b[38;5;241m.\u001b[39m_self_setattr_tracking \u001b[38;5;241m=\u001b[39m previous_value  \u001b[38;5;66;03m# pylint: disable=protected-access\u001b[39;00m\n",
      "File \u001b[1;32m~\\anaconda3\\lib\\site-packages\\keras\\engine\\sequential.py:134\u001b[0m, in \u001b[0;36mSequential.__init__\u001b[1;34m(self, layers, name)\u001b[0m\n\u001b[0;32m    132\u001b[0m   layers \u001b[38;5;241m=\u001b[39m [layers]\n\u001b[0;32m    133\u001b[0m \u001b[38;5;28;01mfor\u001b[39;00m layer \u001b[38;5;129;01min\u001b[39;00m layers:\n\u001b[1;32m--> 134\u001b[0m   \u001b[38;5;28;43mself\u001b[39;49m\u001b[38;5;241;43m.\u001b[39;49m\u001b[43madd\u001b[49m\u001b[43m(\u001b[49m\u001b[43mlayer\u001b[49m\u001b[43m)\u001b[49m\n",
      "File \u001b[1;32m~\\anaconda3\\lib\\site-packages\\tensorflow\\python\\training\\tracking\\base.py:530\u001b[0m, in \u001b[0;36mno_automatic_dependency_tracking.<locals>._method_wrapper\u001b[1;34m(self, *args, **kwargs)\u001b[0m\n\u001b[0;32m    528\u001b[0m \u001b[38;5;28mself\u001b[39m\u001b[38;5;241m.\u001b[39m_self_setattr_tracking \u001b[38;5;241m=\u001b[39m \u001b[38;5;28;01mFalse\u001b[39;00m  \u001b[38;5;66;03m# pylint: disable=protected-access\u001b[39;00m\n\u001b[0;32m    529\u001b[0m \u001b[38;5;28;01mtry\u001b[39;00m:\n\u001b[1;32m--> 530\u001b[0m   result \u001b[38;5;241m=\u001b[39m \u001b[43mmethod\u001b[49m\u001b[43m(\u001b[49m\u001b[38;5;28;43mself\u001b[39;49m\u001b[43m,\u001b[49m\u001b[43m \u001b[49m\u001b[38;5;241;43m*\u001b[39;49m\u001b[43margs\u001b[49m\u001b[43m,\u001b[49m\u001b[43m \u001b[49m\u001b[38;5;241;43m*\u001b[39;49m\u001b[38;5;241;43m*\u001b[39;49m\u001b[43mkwargs\u001b[49m\u001b[43m)\u001b[49m\n\u001b[0;32m    531\u001b[0m \u001b[38;5;28;01mfinally\u001b[39;00m:\n\u001b[0;32m    532\u001b[0m   \u001b[38;5;28mself\u001b[39m\u001b[38;5;241m.\u001b[39m_self_setattr_tracking \u001b[38;5;241m=\u001b[39m previous_value  \u001b[38;5;66;03m# pylint: disable=protected-access\u001b[39;00m\n",
      "File \u001b[1;32m~\\anaconda3\\lib\\site-packages\\keras\\engine\\sequential.py:175\u001b[0m, in \u001b[0;36mSequential.add\u001b[1;34m(self, layer)\u001b[0m\n\u001b[0;32m    173\u001b[0m     layer \u001b[38;5;241m=\u001b[39m functional\u001b[38;5;241m.\u001b[39mModuleWrapper(layer)\n\u001b[0;32m    174\u001b[0m \u001b[38;5;28;01melse\u001b[39;00m:\n\u001b[1;32m--> 175\u001b[0m   \u001b[38;5;28;01mraise\u001b[39;00m \u001b[38;5;167;01mTypeError\u001b[39;00m(\u001b[38;5;124m'\u001b[39m\u001b[38;5;124mThe added layer must be \u001b[39m\u001b[38;5;124m'\u001b[39m\n\u001b[0;32m    176\u001b[0m                   \u001b[38;5;124m'\u001b[39m\u001b[38;5;124man instance of class Layer. \u001b[39m\u001b[38;5;124m'\u001b[39m\n\u001b[0;32m    177\u001b[0m                   \u001b[38;5;124m'\u001b[39m\u001b[38;5;124mFound: \u001b[39m\u001b[38;5;124m'\u001b[39m \u001b[38;5;241m+\u001b[39m \u001b[38;5;28mstr\u001b[39m(layer))\n\u001b[0;32m    179\u001b[0m tf_utils\u001b[38;5;241m.\u001b[39massert_no_legacy_layers([layer])\n\u001b[0;32m    180\u001b[0m \u001b[38;5;28;01mif\u001b[39;00m \u001b[38;5;129;01mnot\u001b[39;00m \u001b[38;5;28mself\u001b[39m\u001b[38;5;241m.\u001b[39m_is_layer_name_unique(layer):\n",
      "\u001b[1;31mTypeError\u001b[0m: The added layer must be an instance of class Layer. Found: <module 'keras.api._v2.keras.layers.experimental.preprocessing' from 'C:\\\\Users\\\\User\\\\anaconda3\\\\lib\\\\site-packages\\\\keras\\\\api\\\\_v2\\\\keras\\\\layers\\\\experimental\\\\preprocessing\\\\__init__.py'>"
>>>>>>> a7352c252cf4ef5bfa8d9fe6b36674df13c1bd4a
     ]
    }
   ],
   "source": [
<<<<<<< HEAD
    "plt.axis('off')\n",
    "plt.imshow(data_augmentation(x)[0].numpy().astype('uint8'))"
   ]
  },
  {
   "cell_type": "code",
   "execution_count": null,
   "id": "ed215cd9",
   "metadata": {},
   "outputs": [],
   "source": [
    "num_classes=4\n",
    "model=Sequential([\n",
    "    data_augmentation,\n",
    "    layers.Conv2D(16, 3, padding='same', activation='relu'),# Applied 16 filters of 3 X 3 Matrix\n",
    "    layers.MaxPooling2D(),\n",
    "    layers.Conv2D(32, 3, padding='same', activation='relu'),\n",
    "    layers.MaxPooling2D(),\n",
    "    layers.Conv2D(64, 3, padding='same', activation='relu'),\n",
    "    layers.MaxPooling2D(),\n",
    "    layers.Dropout(0.2), #drops 20% of the neurons in each pass brings better generalization\n",
    "    layers.Flatten(),\n",
    "    #128 neourons--> try and error\n",
    "    layers.Dense(128,activation=\"relu\"),\n",
    "    layers.Dense(num_classes) #if 0 neuron is activated it means its Blight, no activation(linear activation)\n",
    "])\n"
   ]
  },
  {
   "cell_type": "code",
   "execution_count": null,
   "id": "2102c8a8",
   "metadata": {},
   "outputs": [],
   "source": [
    "model.compile(optimizer=\"adam\",\n",
    "             loss=tf.keras.losses.SparseCategoricalCrossentropy(from_logits=True),\n",
    "              metrics=[\"accuracy\"]\n",
    "             )\n",
    "model.evaluate(x_test_scaled,y_test)"
   ]
  },
  {
   "cell_type": "code",
   "execution_count": null,
   "id": "a468a810",
   "metadata": {},
   "outputs": [],
   "source": []
  },
  {
   "cell_type": "code",
   "execution_count": null,
   "id": "fb998d13",
   "metadata": {},
   "outputs": [],
   "source": []
  },
  {
   "cell_type": "code",
   "execution_count": null,
   "id": "19a3eb35",
   "metadata": {},
   "outputs": [],
   "source": []
=======
    "\n",
    "#Update the weights in the network based on the input \n",
    "model.fit(x_train_scaled,y_train,epochs=1)\n",
    "#Helps to determine whether the data is over trained or not\n",
    "# Evaluate\n",
    "print(\"Evaluate\")\n",
    "model.evaluate(x_test_scaled,y_test)\n",
    "# Predictions\n",
    "prediction=model.predict(x_test_scaled)\n",
    "print(prediction)\n",
    "#Convert to probability score\n",
    "score=tf.nn.softmax(prediction[0])\n",
    "print(score)\n",
    "print(np.argmax(score))\n",
    "print(y_test[0])\n",
    "data_augmentation=Sequential([\n",
    "    layers.experimental.preprocessing\n",
    "])\n",
    "plt.axis('off')\n",
    "plt.imshow(x[0])\n"
   ]
>>>>>>> a7352c252cf4ef5bfa8d9fe6b36674df13c1bd4a
  }
 ],
 "metadata": {
  "kernelspec": {
   "display_name": "Python 3",
   "language": "python",
   "name": "python3"
  },
  "language_info": {
   "codemirror_mode": {
    "name": "ipython",
    "version": 3
   },
   "file_extension": ".py",
   "mimetype": "text/x-python",
   "name": "python",
   "nbconvert_exporter": "python",
   "pygments_lexer": "ipython3",
   "version": "3.8.8"
  }
 },
 "nbformat": 4,
 "nbformat_minor": 5
}
