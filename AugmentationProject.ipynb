{
 "cells": [
  {
   "cell_type": "markdown",
   "id": "4f7e168f",
   "metadata": {},
   "source": [
    "### Increasing the Maize Leaf Disease Dataset Using Contrast Technique"
   ]
  },
  {
   "cell_type": "code",
   "execution_count": null,
   "id": "614496fd",
   "metadata": {},
   "outputs": [],
   "source": [
    "import PIL\n",
    "import numpy as np\n",
    "import os\n",
    "import tensorflow as tf\n",
    "import cv2\n",
    "import keras\n",
    "import pathlib\n",
    "import glob\n",
    "import matplotlib.pyplot as plt\n",
    "from tensorflow.keras import layers\n",
    "from tensorflow.keras.models import Sequential\n",
    "from sklearn.model_selection import train_test_split\n",
    "import numpy"
   ]
  },
  {
   "cell_type": "markdown",
   "id": "fa7c3d4c",
   "metadata": {},
   "source": [
    "### Loading of the data"
   ]
  },
  {
   "cell_type": "code",
   "execution_count": null,
   "id": "66f750fa",
   "metadata": {},
   "outputs": [],
   "source": [
    "data_dir=pathlib.Path(os.getcwd()+\"/maize_leaf_diseases_dataset/\") \n",
    "maize_disease_dataset=list(glob.glob(f\"{data_dir}/data/*.jpg\"))\n",
    "len(maize_disease_dataset)"
   ]
  },
  {
   "cell_type": "markdown",
   "id": "716a165f",
   "metadata": {},
   "source": [
    "### Converting images to pixels"
   ]
  },
  {
   "cell_type": "code",
   "execution_count": null,
   "id": "53984b8a",
   "metadata": {},
   "outputs": [],
   "source": [
    "x=[]\n",
    "for image in maize_disease_dataset:\n",
    "    img=cv2.imread(str(image))\n",
    "    resized_img=cv2.resize(img,(180,180))\n",
    "    x.append(resized_img)\n",
    "x=np.array(x)\n",
    "plt.imshow(x[0])\n",
    "plt.axis('off')\n",
    "plt.show()"
   ]
  },
  {
   "cell_type": "code",
   "execution_count": null,
   "id": "ab27ed9a",
   "metadata": {},
   "outputs": [],
   "source": [
    "print(x[0])\n",
    "print(x.dtype)"
   ]
  },
  {
   "cell_type": "markdown",
   "id": "69a3a076",
   "metadata": {},
   "source": [
    "### Test, Train Split"
   ]
  },
  {
   "cell_type": "code",
   "execution_count": null,
   "id": "d5f8850d",
   "metadata": {},
   "outputs": [],
   "source": [
    "x_train,x_test=train_test_split(x,test_size=0.3,random_state=0) #Splitting\n",
    "print(len(x_train))\n",
    "print(len(x_test))"
   ]
  },
  {
   "cell_type": "markdown",
   "id": "4e3c76ac",
   "metadata": {},
   "source": [
    "### Scalling the pixels to the range of 0...1"
   ]
  },
  {
   "cell_type": "code",
   "execution_count": null,
   "id": "02358490",
   "metadata": {},
   "outputs": [],
   "source": [
    "# Scalling\n",
    "x_train_scaled=x_train/255 #Scale of 0.,1.0\n",
    "x_test_scaled=x_test/255\n",
    "print(x_train_scaled[0])\n",
    "plt.imshow(x_train_scaled[0]) #Display image\n",
    "plt.axis('off')\n",
    "plt.show()"
   ]
  },
  {
   "cell_type": "markdown",
   "id": "6a28d323",
   "metadata": {},
   "source": [
    "### Creating augmentation function 1"
   ]
  },
  {
   "cell_type": "code",
   "execution_count": null,
   "id": "5b56568f",
   "metadata": {},
   "outputs": [],
   "source": [
    "augmentation1=keras.Sequential([\n",
    "    tf.keras.layers.RandomContrast(\n",
    "    0.9, seed=None\n",
    ")\n",
    "])\n"
   ]
  },
  {
   "cell_type": "markdown",
   "id": "8e7dc34b",
   "metadata": {},
   "source": [
    "### Augmenting the training data one"
   ]
  },
  {
   "cell_type": "code",
   "execution_count": null,
   "id": "5861950b",
   "metadata": {},
   "outputs": [],
   "source": [
    "augmented_training1=augmentation1(x_train_scaled)\n",
    "print(augmented_training1[0])\n",
    "current_dir=pathlib.Path(os.getcwd())\n",
    "try:\n",
    "    if not os.path.isdir(str(current_dir)+\"\\Augmented\"):\n",
    "        os.mkdir(\"Augmented\")\n",
    "    os.chdir(str(current_dir)+\"\\Augmented\")\n",
    "    for i in range(len(augmented_training1)):\n",
    "        plt.imsave(f\"Augmented1_img{i}.jpg\",augmented_training1[i].numpy())\n",
    "except:\n",
    "    pass\n",
    "finally:\n",
    "    os.chdir(str(current_dir))\n",
    "plt.imshow(augmented_training1[0])\n",
    "plt.axis('off')\n",
    "plt.show()"
   ]
  },
  {
   "cell_type": "markdown",
   "id": "c42662f6",
   "metadata": {},
   "source": [
    "### Augmentation function 2"
   ]
  },
  {
   "cell_type": "code",
   "execution_count": null,
   "id": "f37a6bce",
   "metadata": {},
   "outputs": [],
   "source": [
    "augmentation2=Sequential([\n",
    "    tf.keras.layers.RandomContrast(\n",
    "    0.4, seed=None\n",
    "    )\n",
    "])\n"
   ]
  },
  {
   "cell_type": "markdown",
   "id": "b05c3453",
   "metadata": {},
   "source": [
    "### Augmenting training data 2"
   ]
  },
  {
   "cell_type": "code",
   "execution_count": null,
   "id": "a0a7187e",
   "metadata": {},
   "outputs": [],
   "source": [
    "augmented_training2=augmentation2(x_train_scaled)\n",
    "current_dir=pathlib.Path(os.getcwd())\n",
    "try:\n",
    "    if not os.path.isdir(str(current_dir)+\"\\Augmented\"):\n",
    "        os.mkdir(\"Augmented\")\n",
    "    os.chdir(str(current_dir)+\"\\Augmented\")\n",
    "    for i in range(len(augmented_training2)):\n",
    "        plt.imsave(f\"Augmented2_img{i}.jpg\",augmented_training2[i].numpy())\n",
    "except:\n",
    "    pass\n",
    "finally:\n",
    "    os.chdir(str(current_dir))\n",
    "plt.imshow(augmented_training2[0]) #Display our augmented image\n",
    "plt.axis('off')\n",
    "plt.show()"
   ]
  },
  {
   "cell_type": "markdown",
   "id": "a2e7f321",
   "metadata": {},
   "source": [
    "### Testing Image"
   ]
  },
  {
   "cell_type": "code",
   "execution_count": null,
   "id": "0eb38e72",
   "metadata": {},
   "outputs": [],
   "source": [
    "plt.imshow(x_test_scaled[1]) #Original test image,(Not augmented)\n",
    "plt.axis('off')\n",
    "plt.show()"
   ]
  },
  {
   "cell_type": "markdown",
   "id": "3251e925",
   "metadata": {},
   "source": [
    "### Augmenting test data 1"
   ]
  },
  {
   "cell_type": "code",
   "execution_count": null,
   "id": "a15323c4",
   "metadata": {},
   "outputs": [],
   "source": [
    "augmented_testing1=augmentation1(x_test_scaled) #factor- 0.9\n",
    "plt.imshow(augmented_testing1[1]) #Display augmented image of a particular index\n",
    "plt.axis('off')\n",
    "plt.show()"
   ]
  },
  {
   "cell_type": "markdown",
   "id": "fa79f66e",
   "metadata": {},
   "source": [
    "### Augmenting test data 2"
   ]
  },
  {
   "cell_type": "code",
   "execution_count": null,
   "id": "e6ca665d",
   "metadata": {},
   "outputs": [],
   "source": [
    "augmented_test2=augmentation2(x_test_scaled) #factor=0.4\n",
    "plt.imshow(augmented_test2[1])\n",
    "plt.axis('off')\n",
    "plt.show()"
   ]
  },
  {
   "cell_type": "markdown",
   "id": "02824202",
   "metadata": {},
   "source": [
    "# Classifying Original and Augmented images\n",
    "### Loading the data"
   ]
  },
  {
   "cell_type": "code",
   "execution_count": null,
   "id": "d3030bca",
   "metadata": {},
   "outputs": [],
   "source": [
    "maize_leaf_disease_dict={\n",
    "    \"Original\":list(glob.glob(f\"{data_dir}/data/*.jpg\")),\n",
    "    \"Augmented\":list(glob.glob(f\"{os.getcwd()}/Augmented/*.jpg\"))\n",
    "}\n",
    "print(len(maize_leaf_disease_dict[\"Original\"]))\n",
    "print(len(maize_leaf_disease_dict[\"Augmented\"]))"
   ]
  },
  {
   "cell_type": "code",
   "execution_count": null,
   "id": "b0d1d320",
   "metadata": {},
   "outputs": [],
   "source": [
    "augmented_labels_dict={\n",
    "    \"Original\":0,\n",
    "    \"Augmented\":1\n",
    "}"
   ]
  },
  {
   "cell_type": "code",
   "execution_count": null,
   "id": "93fdefb3",
   "metadata": {},
   "outputs": [],
   "source": [
    "print(len(maize_leaf_disease_dict[\"Augmented\"]))"
   ]
  },
  {
   "cell_type": "markdown",
   "id": "d81b8372",
   "metadata": {},
   "source": [
    "### Loading of the data"
   ]
  },
  {
   "cell_type": "code",
   "execution_count": null,
   "id": "11654802",
   "metadata": {},
   "outputs": [],
   "source": [
    "x,y=[],[]\n",
    "for augmented_original,images in maize_leaf_disease_dict.items():\n",
    "    for image in images:\n",
    "        img=cv2.imread(str(image))#Convert image to pixels\n",
    "        resized_img=cv2.resize(img,(180,180))#Images to be of same size\n",
    "        x.append(resized_img)#Pixels\n",
    "        y.append(augmented_labels_dict[augmented_original])#Label Random 0,1\n",
    "print(x[0])\n",
    "print(y[:5])\n",
    "x=np.array(x)\n",
    "y=np.array(y)"
   ]
  },
  {
   "cell_type": "code",
   "execution_count": null,
   "id": "0a5b4ecb",
   "metadata": {},
   "outputs": [],
   "source": [
    "print(x.dtype)"
   ]
  },
  {
   "cell_type": "code",
   "execution_count": null,
   "id": "24270891",
   "metadata": {},
   "outputs": [],
   "source": [
    "print(y)"
   ]
  },
  {
   "cell_type": "markdown",
   "id": "3b7bbf91",
   "metadata": {},
   "source": [
    "### Test, Train split"
   ]
  },
  {
   "cell_type": "code",
   "execution_count": null,
   "id": "641a3605",
   "metadata": {},
   "outputs": [],
   "source": [
    "x_train,x_test,y_train, y_test=train_test_split(x,y,test_size=0.3,random_state=0) #Splitting\n",
    "print(len(x_train))\n",
    "print(len(x_test))\n",
    "print(x_train.dtype)\n",
    "print(x_train.dtype)"
   ]
  },
  {
   "cell_type": "markdown",
   "id": "b2cdaf31",
   "metadata": {},
   "source": [
    "### Scaling"
   ]
  },
  {
   "cell_type": "code",
   "execution_count": null,
   "id": "f5e36771",
   "metadata": {},
   "outputs": [],
   "source": [
    "x_train_scaled=x_train/255\n",
    "x_test_scaled=x_test/255\n",
    "print(x_train_scaled[0])"
   ]
  },
  {
   "cell_type": "markdown",
   "id": "9815befa",
   "metadata": {},
   "source": [
    "### Creating our CNN Model"
   ]
  },
  {
   "cell_type": "code",
   "execution_count": null,
   "id": "e81e927b",
   "metadata": {},
   "outputs": [],
   "source": [
    "num_classes=2\n",
    "model=Sequential([\n",
    "    layers.Conv2D(16, 3, padding='same', activation='relu'),# Applied 16 filters of 3 X 3 Matrix\n",
    "    layers.MaxPooling2D(),\n",
    "    layers.Conv2D(32, 3, padding='same', activation='relu'),\n",
    "    layers.MaxPooling2D(),\n",
    "    layers.Conv2D(64, 3, padding='same', activation='relu'),\n",
    "    layers.MaxPooling2D(),\n",
    "    layers.Flatten(),\n",
    "    #128 neourons--> try and error\n",
    "    layers.Dense(128,activation=\"relu\"),\n",
    "    layers.Dense(num_classes) #if 0 neuron is activated it means its Original, no activation(linear activation)\n",
    "])"
   ]
  },
  {
   "cell_type": "markdown",
   "id": "0cb3ca48",
   "metadata": {},
   "source": [
    "### Compiling the model"
   ]
  },
  {
   "cell_type": "code",
   "execution_count": null,
   "id": "4ba30d90",
   "metadata": {},
   "outputs": [],
   "source": [
    "model.compile(optimizer=\"adam\",\n",
    "             loss=tf.keras.losses.SparseCategoricalCrossentropy(from_logits=True),\n",
    "              metrics=[\"accuracy\"]\n",
    "             )"
   ]
  },
  {
   "cell_type": "code",
   "execution_count": null,
   "id": "2a5a4ecf",
   "metadata": {},
   "outputs": [],
   "source": [
    "print(x_train_scaled.dtype)\n",
    "print(y_train.dtype)"
   ]
  },
  {
   "cell_type": "markdown",
   "id": "d4e2f0c7",
   "metadata": {},
   "source": [
    "### Training the CNN Model"
   ]
  },
  {
   "cell_type": "code",
   "execution_count": null,
   "id": "db6ec34b",
   "metadata": {},
   "outputs": [],
   "source": [
    "model.fit(x_train_scaled,y_train,epochs=10)"
   ]
  },
  {
   "cell_type": "code",
   "execution_count": null,
   "id": "4f06a9a5",
   "metadata": {},
   "outputs": [],
   "source": [
    "model.evaluate(x_test_scaled,y_test)"
   ]
  },
  {
   "cell_type": "code",
   "execution_count": null,
   "id": "07621c6a",
   "metadata": {},
   "outputs": [],
   "source": [
    "print(x_train_scaled[0])"
   ]
  },
  {
   "cell_type": "code",
   "execution_count": null,
   "id": "6940b0bd",
   "metadata": {},
   "outputs": [],
   "source": [
    "prediction=model.predict(x_train_scaled[])\n",
    "score=tf.nn.softmax(prediction[0])\n",
    "print(score)\n",
    "print(np.argmax(score))"
   ]
  },
  {
   "cell_type": "markdown",
   "id": "7975af68",
   "metadata": {},
   "source": [
    "### Saving the model"
   ]
  },
  {
   "cell_type": "code",
   "execution_count": null,
   "id": "8d063439",
   "metadata": {},
   "outputs": [],
   "source": [
    "model.save(\"augmentation_model\") "
   ]
  },
  {
   "cell_type": "markdown",
   "id": "a8ade1a2",
   "metadata": {},
   "source": [
    "### Reconstruct a new model from the final model"
   ]
  },
  {
   "cell_type": "code",
   "execution_count": null,
   "id": "8d615569",
   "metadata": {},
   "outputs": [],
   "source": [
    "reconstructed_model = keras.models.load_model(\"augmentation_model\") "
   ]
  },
  {
   "cell_type": "code",
   "execution_count": null,
   "id": "84e0bf34",
   "metadata": {},
   "outputs": [],
   "source": []
  }
 ],
 "metadata": {
  "kernelspec": {
   "display_name": "Python 3",
   "language": "python",
   "name": "python3"
  },
  "language_info": {
   "codemirror_mode": {
    "name": "ipython",
    "version": 3
   },
   "file_extension": ".py",
   "mimetype": "text/x-python",
   "name": "python",
   "nbconvert_exporter": "python",
   "pygments_lexer": "ipython3",
   "version": "3.8.8"
  }
 },
 "nbformat": 4,
 "nbformat_minor": 5
}
